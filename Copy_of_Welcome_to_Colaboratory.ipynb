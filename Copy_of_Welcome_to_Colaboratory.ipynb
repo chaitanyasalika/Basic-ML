{
  "nbformat": 4,
  "nbformat_minor": 0,
  "metadata": {
    "colab": {
      "name": "Copy of Welcome to Colaboratory",
      "provenance": [],
      "collapsed_sections": [],
      "toc_visible": true,
      "include_colab_link": true
    },
    "kernelspec": {
      "display_name": "Python 3",
      "name": "python3"
    }
  },
  "cells": [
    {
      "cell_type": "markdown",
      "metadata": {
        "id": "view-in-github",
        "colab_type": "text"
      },
      "source": [
        "<a href=\"https://colab.research.google.com/github/chaitanyasalika/Basic-ML/blob/main/Copy_of_Welcome_to_Colaboratory.ipynb\" target=\"_parent\"><img src=\"https://colab.research.google.com/assets/colab-badge.svg\" alt=\"Open In Colab\"/></a>"
      ]
    },
    {
      "cell_type": "markdown",
      "metadata": {
        "id": "Qlsd9ngEqPba"
      },
      "source": [
        "# ADDITION OF TWO INPUTS IN PYTHON"
      ]
    },
    {
      "cell_type": "code",
      "metadata": {
        "id": "56qXyFltqWBV",
        "colab": {
          "base_uri": "https://localhost:8080/"
        },
        "outputId": "dbe55799-1fcc-48e2-d924-e45de61d02f8"
      },
      "source": [
        "a=int(input())\n",
        "b=int(input())\n",
        "c=a+b\n",
        "print(c)"
      ],
      "execution_count": null,
      "outputs": [
        {
          "output_type": "stream",
          "text": [
            "20\n",
            "30\n",
            "50\n"
          ],
          "name": "stdout"
        }
      ]
    },
    {
      "cell_type": "markdown",
      "metadata": {
        "id": "kjE9NSx7qnew"
      },
      "source": [
        "# MULTIPLICATION"
      ]
    },
    {
      "cell_type": "code",
      "metadata": {
        "id": "rSrZRP8Iqzhg",
        "colab": {
          "base_uri": "https://localhost:8080/"
        },
        "outputId": "144995f2-e83f-4e9b-9635-766dbd3cb413"
      },
      "source": [
        "a=int(input())\n",
        "b=int(input())\n",
        "c=a*b\n",
        "print(c)"
      ],
      "execution_count": null,
      "outputs": [
        {
          "output_type": "stream",
          "text": [
            "20\n",
            "30\n",
            "600\n"
          ],
          "name": "stdout"
        }
      ]
    },
    {
      "cell_type": "markdown",
      "metadata": {
        "id": "qn_K-BRQrDXE"
      },
      "source": [
        "# leap year"
      ]
    },
    {
      "cell_type": "code",
      "metadata": {
        "id": "GmVKElGVrH2P",
        "colab": {
          "base_uri": "https://localhost:8080/"
        },
        "outputId": "c4767c27-1255-4e56-8df1-4307549d1775"
      },
      "source": [
        "year=int(input())\n",
        "if (year%400==0) or (year%100==0):\n",
        "  print(\"LEAP YEAR\")\n",
        "elif year%4==0:\n",
        "  print(\"leap year\")\n",
        "else:\n",
        "  print(\"not a leap year\")"
      ],
      "execution_count": null,
      "outputs": [
        {
          "output_type": "stream",
          "text": [
            "2000\n",
            "LEAP YEAR\n"
          ],
          "name": "stdout"
        }
      ]
    }
  ]
}